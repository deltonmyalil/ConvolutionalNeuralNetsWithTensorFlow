{
 "cells": [
  {
   "cell_type": "markdown",
   "metadata": {},
   "source": [
    "# MNIST data with Convolutional Neural Nets"
   ]
  },
  {
   "cell_type": "code",
   "execution_count": 1,
   "metadata": {},
   "outputs": [],
   "source": [
    "import tensorflow as tf"
   ]
  },
  {
   "cell_type": "markdown",
   "metadata": {},
   "source": [
    "## Importing the data"
   ]
  },
  {
   "cell_type": "code",
   "execution_count": 2,
   "metadata": {
    "scrolled": false
   },
   "outputs": [
    {
     "name": "stdout",
     "output_type": "stream",
     "text": [
      "WARNING:tensorflow:From <ipython-input-2-8bf8ae5a5303>:2: read_data_sets (from tensorflow.contrib.learn.python.learn.datasets.mnist) is deprecated and will be removed in a future version.\n",
      "Instructions for updating:\n",
      "Please use alternatives such as official/mnist/dataset.py from tensorflow/models.\n",
      "WARNING:tensorflow:From /home/themadscientist/anaconda3/lib/python3.7/site-packages/tensorflow/contrib/learn/python/learn/datasets/mnist.py:260: maybe_download (from tensorflow.contrib.learn.python.learn.datasets.base) is deprecated and will be removed in a future version.\n",
      "Instructions for updating:\n",
      "Please write your own downloading logic.\n",
      "WARNING:tensorflow:From /home/themadscientist/anaconda3/lib/python3.7/site-packages/tensorflow/contrib/learn/python/learn/datasets/mnist.py:262: extract_images (from tensorflow.contrib.learn.python.learn.datasets.mnist) is deprecated and will be removed in a future version.\n",
      "Instructions for updating:\n",
      "Please use tf.data to implement this functionality.\n",
      "Extracting MNIST_data/train-images-idx3-ubyte.gz\n",
      "WARNING:tensorflow:From /home/themadscientist/anaconda3/lib/python3.7/site-packages/tensorflow/contrib/learn/python/learn/datasets/mnist.py:267: extract_labels (from tensorflow.contrib.learn.python.learn.datasets.mnist) is deprecated and will be removed in a future version.\n",
      "Instructions for updating:\n",
      "Please use tf.data to implement this functionality.\n",
      "Extracting MNIST_data/train-labels-idx1-ubyte.gz\n",
      "WARNING:tensorflow:From /home/themadscientist/anaconda3/lib/python3.7/site-packages/tensorflow/contrib/learn/python/learn/datasets/mnist.py:110: dense_to_one_hot (from tensorflow.contrib.learn.python.learn.datasets.mnist) is deprecated and will be removed in a future version.\n",
      "Instructions for updating:\n",
      "Please use tf.one_hot on tensors.\n",
      "Extracting MNIST_data/t10k-images-idx3-ubyte.gz\n",
      "Extracting MNIST_data/t10k-labels-idx1-ubyte.gz\n",
      "WARNING:tensorflow:From /home/themadscientist/anaconda3/lib/python3.7/site-packages/tensorflow/contrib/learn/python/learn/datasets/mnist.py:290: DataSet.__init__ (from tensorflow.contrib.learn.python.learn.datasets.mnist) is deprecated and will be removed in a future version.\n",
      "Instructions for updating:\n",
      "Please use alternatives such as official/mnist/dataset.py from tensorflow/models.\n"
     ]
    }
   ],
   "source": [
    "from tensorflow.examples.tutorials.mnist import input_data\n",
    "mnist = input_data.read_data_sets(\"MNIST_data/\", one_hot=True)"
   ]
  },
  {
   "cell_type": "markdown",
   "metadata": {},
   "source": [
    "## Helper functionss"
   ]
  },
  {
   "cell_type": "markdown",
   "metadata": {},
   "source": [
    "### Initializing the weights"
   ]
  },
  {
   "cell_type": "code",
   "execution_count": 3,
   "metadata": {},
   "outputs": [],
   "source": [
    "def init_weights(shape):\n",
    "    # truncated_normal will drop anything beyond Mu+/-2Sigma\n",
    "    init_random_dist = tf.truncated_normal(shape, stddev=0.1)\n",
    "    return tf.Variable(init_random_dist)"
   ]
  },
  {
   "cell_type": "markdown",
   "metadata": {},
   "source": [
    "### Initializing the Bias"
   ]
  },
  {
   "cell_type": "code",
   "execution_count": 4,
   "metadata": {},
   "outputs": [],
   "source": [
    "def init_bias(shape):\n",
    "    # Constant value of 0.1\n",
    "    init_bias_vals = tf.constant(0.1, shape=shape)\n",
    "    return tf.Variable(init_bias_vals)"
   ]
  },
  {
   "cell_type": "markdown",
   "metadata": {},
   "source": [
    "### 2D Convolution"
   ]
  },
  {
   "cell_type": "markdown",
   "metadata": {},
   "source": [
    "Convenient function that creates a 2d convolution\n",
    "\n",
    "There is a tf function that creates the convolution with inputs as an input tensor, an input kernel/filter and a stride and padding\n",
    "\n",
    "I'm creating a wrapper around it"
   ]
  },
  {
   "cell_type": "code",
   "execution_count": 5,
   "metadata": {},
   "outputs": [],
   "source": [
    "# x is the input tensor of form [batchOfImages, Height, Width, Channels(1 channel for \n",
    "##grayscale)]\n",
    "# W is the weights [filterHeight, filterWeight, channelsIN, channelsOUT] \n",
    "def conv2D(x, W):\n",
    "    # conv2d returns a tensor of the same size as the input X\n",
    "    return tf.nn.conv2d(x, W, strides=[1,1,1,1], padding='SAME')"
   ]
  },
  {
   "cell_type": "markdown",
   "metadata": {},
   "source": [
    "### Pooling "
   ]
  },
  {
   "cell_type": "code",
   "execution_count": 6,
   "metadata": {},
   "outputs": [],
   "source": [
    "# x is of form [batch, height, width, channel(depth)]\n",
    "def max_pool_2by2(x):\n",
    "    # ksize and strides are set for a 2x2 window of batch=1 and depth=1\n",
    "    # hence [1,2,2,1]\n",
    "    return tf.nn.max_pool(x, ksize=[1,2,2,1], strides=[1,2,2,1], padding='SAME')"
   ]
  },
  {
   "cell_type": "markdown",
   "metadata": {},
   "source": [
    "## Convolutional Layer"
   ]
  },
  {
   "cell_type": "code",
   "execution_count": 7,
   "metadata": {},
   "outputs": [],
   "source": [
    "def convolutional_layer(input_x, shape):\n",
    "    W = init_weights(shape) # returns tf.Variable\n",
    "    b = init_bias([shape[3]]) # returns tf.Variable\n",
    "    return tf.nn.relu(conv2D(input_x, W)+b)"
   ]
  },
  {
   "cell_type": "markdown",
   "metadata": {},
   "source": [
    "## Dense Layer"
   ]
  },
  {
   "cell_type": "code",
   "execution_count": 8,
   "metadata": {},
   "outputs": [],
   "source": [
    "# input_layer also follows the convention [bat, H, W, channel]\n",
    "# Densely connected\n",
    "def normal_full_layer(input_layer, size):\n",
    "    input_size = int(input_layer.get_shape()[1])\n",
    "    W = init_weights([input_size, size])\n",
    "    b = init_bias([size])\n",
    "    return tf.matmul(input_layer, W)+b"
   ]
  },
  {
   "cell_type": "markdown",
   "metadata": {},
   "source": [
    "## Placeholders"
   ]
  },
  {
   "cell_type": "code",
   "execution_count": 9,
   "metadata": {},
   "outputs": [],
   "source": [
    "# I will use these for the feed dictionaries as usual\n",
    "x = tf.placeholder(tf.float32, shape=[None,784]) # 28x28 pixels = 784\n",
    "y_true = tf.placeholder(tf.float32, shape=[None,10]) # 0 to 9, one hot encoded labels"
   ]
  },
  {
   "cell_type": "markdown",
   "metadata": {},
   "source": [
    "## Layers"
   ]
  },
  {
   "cell_type": "code",
   "execution_count": 10,
   "metadata": {},
   "outputs": [
    {
     "name": "stdout",
     "output_type": "stream",
     "text": [
      "WARNING:tensorflow:From /home/themadscientist/anaconda3/lib/python3.7/site-packages/tensorflow/python/framework/op_def_library.py:263: colocate_with (from tensorflow.python.framework.ops) is deprecated and will be removed in a future version.\n",
      "Instructions for updating:\n",
      "Colocations handled automatically by placer.\n"
     ]
    }
   ],
   "source": [
    "# INPUT LAYER\n",
    "# x_image is the inputlayer, with some no of bat, height & width is 28, with 1 color channel\n",
    "x_image = tf.reshape(x, [-1, 28, 28, 1])\n",
    "\n",
    "# LAYER 1\n",
    "# First convLayer: computes 32 features for each 5x5 patch\n",
    "convo_1 = convolutional_layer(x_image,\n",
    "                             shape=[5,5,1,32]) # [patchH, patchW, channel, featuresCompting]\n",
    "                                                # featuresComputing is no of o/p channels\n",
    "# Passing the results of the first convLayer to maxPooling layer\n",
    "convo1_pooling = max_pool_2by2(convo_1)\n",
    "\n",
    "# Second ConvLayer\n",
    "# Now the input to 2nd convLayer has 32 features, we need say 64 features as output\n",
    "convo_2 = convolutional_layer(convo1_pooling, shape=[5,5,32,64])\n",
    "convo_2_pooling = max_pool_2by2(convo_2)\n",
    "convo_2_flat = tf.reshape(convo_2_pooling, [-1, 7*7*64])\n",
    "\n",
    "# binding up the full First Layer\n",
    "full_layer_one = tf.nn.relu(normal_full_layer(convo_2_flat, 1024))"
   ]
  },
  {
   "cell_type": "markdown",
   "metadata": {},
   "source": [
    "## Dropout to prevent overfitting"
   ]
  },
  {
   "cell_type": "code",
   "execution_count": 11,
   "metadata": {},
   "outputs": [],
   "source": [
    "# Create holding probability, later during training feed it as 50%\n",
    "hold_prob = tf.placeholder(tf.float32)\n",
    "# The arg kepp_prob got deprecated, hence usign the one in the bottom\n",
    "#full_one_dropout = tf.nn.dropout(full_layer_one, keep_prob=hold_prob)\n",
    "full_one_dropout = tf.nn.dropout(full_layer_one, rate=1-hold_prob)"
   ]
  },
  {
   "cell_type": "markdown",
   "metadata": {},
   "source": [
    "## Making y_preds ie output layer"
   ]
  },
  {
   "cell_type": "code",
   "execution_count": 12,
   "metadata": {},
   "outputs": [],
   "source": [
    "# output layer consists of 10 neurons\n",
    "y_pred = normal_full_layer(full_one_dropout, 10) # 10 output classes"
   ]
  },
  {
   "cell_type": "markdown",
   "metadata": {},
   "source": [
    "## Defining the Loss Function"
   ]
  },
  {
   "cell_type": "code",
   "execution_count": 13,
   "metadata": {},
   "outputs": [],
   "source": [
    "cross_entropy = tf.reduce_mean(tf.nn.softmax_cross_entropy_with_logits_v2(labels=y_true,\n",
    "                                                                         logits=y_pred))"
   ]
  },
  {
   "cell_type": "markdown",
   "metadata": {},
   "source": [
    "## Defining the Optimizer and the train object"
   ]
  },
  {
   "cell_type": "code",
   "execution_count": 14,
   "metadata": {},
   "outputs": [],
   "source": [
    "# Using Adam Optimizer with the same  parameters as in the theory notes from \n",
    "# NPTEL Prof Mithesh Khapra - Deep Learning\n",
    "optimizer = tf.train.AdamOptimizer(learning_rate=0.001, beta1=0.9, beta2=0.999, \n",
    "                                   epsilon=1e-8)\n",
    "train = optimizer.minimize(cross_entropy)"
   ]
  },
  {
   "cell_type": "markdown",
   "metadata": {},
   "source": [
    "## Initializing the Variables"
   ]
  },
  {
   "cell_type": "code",
   "execution_count": 15,
   "metadata": {},
   "outputs": [],
   "source": [
    "# Creating the init object\n",
    "init = tf.global_variables_initializer()"
   ]
  },
  {
   "cell_type": "markdown",
   "metadata": {},
   "source": [
    "# Running the TensorFlow session for 1000 epochs"
   ]
  },
  {
   "cell_type": "code",
   "execution_count": null,
   "metadata": {},
   "outputs": [],
   "source": [
    "\n",
    "steps = 1000\n",
    "\n",
    "with tf.Session() as sess:\n",
    "    # Initializing the variables into the session\n",
    "    sess.run(init)\n",
    "    # training on 50 sized batches\n",
    "    for i in range(steps):\n",
    "#         print(\"training first batch\")\n",
    "        batch_x, batch_y = mnist.train.next_batch(50)\n",
    "        # train it with a dropout rate of 50%\n",
    "        sess.run(train, feed_dict={x:batch_x, y_true:batch_y, hold_prob:0.5})\n",
    "        \n",
    "        if i%100 == 0:\n",
    "#             print(\"iteration no. \", i)\n",
    "            # To calculate and print accuracy every 100 epochs\n",
    "            # axis=1 gives indexOf the maximum element in the row\n",
    "            # matches will be a 50 length boolean array\n",
    "            matches = tf.equal(tf.argmax(y_pred, axis=1), tf.argmax(y_true, axis=1))\n",
    "            # reduce matches to the mean of it to get accuracy\n",
    "            acc = tf.reduce_mean(tf.cast(matches, tf.float32))\n",
    "            # print(\"On step {0}, accuracy = {1}\".format(i, acc))\n",
    "            # the above doesnt work, my bad, need sess.run for it\n",
    "            print(\"On step {0}, accuracy = {1}\".format(i, sess.run(acc, \n",
    "                                                    feed_dict={\n",
    "                                                        x:mnist.test.images,\n",
    "                                                        y_true:mnist.test.labels,\n",
    "                                                        hold_prob:1.0\n",
    "                                                    })))\n"
   ]
  },
  {
   "cell_type": "markdown",
   "metadata": {},
   "source": [
    "Taking too much time\n",
    "\n",
    "I think the kernel is getting stuck\n",
    "\n",
    "Excuse me for running TF on a potato PC"
   ]
  }
 ],
 "metadata": {
  "kernelspec": {
   "display_name": "Python 3",
   "language": "python",
   "name": "python3"
  },
  "language_info": {
   "codemirror_mode": {
    "name": "ipython",
    "version": 3
   },
   "file_extension": ".py",
   "mimetype": "text/x-python",
   "name": "python",
   "nbconvert_exporter": "python",
   "pygments_lexer": "ipython3",
   "version": "3.7.1"
  }
 },
 "nbformat": 4,
 "nbformat_minor": 2
}
