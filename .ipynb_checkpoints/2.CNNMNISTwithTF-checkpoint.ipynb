{
 "cells": [
  {
   "cell_type": "markdown",
   "metadata": {},
   "source": [
    "# MNIST data with Convolutional Neural Nets"
   ]
  },
  {
   "cell_type": "code",
   "execution_count": 1,
   "metadata": {},
   "outputs": [],
   "source": [
    "import tensorflow as tf"
   ]
  },
  {
   "cell_type": "markdown",
   "metadata": {},
   "source": [
    "## Importing the data"
   ]
  },
  {
   "cell_type": "code",
   "execution_count": 2,
   "metadata": {
    "scrolled": false
   },
   "outputs": [
    {
     "name": "stdout",
     "output_type": "stream",
     "text": [
      "WARNING:tensorflow:From <ipython-input-2-8bf8ae5a5303>:2: read_data_sets (from tensorflow.contrib.learn.python.learn.datasets.mnist) is deprecated and will be removed in a future version.\n",
      "Instructions for updating:\n",
      "Please use alternatives such as official/mnist/dataset.py from tensorflow/models.\n",
      "WARNING:tensorflow:From /home/themadscientist/anaconda3/lib/python3.7/site-packages/tensorflow/contrib/learn/python/learn/datasets/mnist.py:260: maybe_download (from tensorflow.contrib.learn.python.learn.datasets.base) is deprecated and will be removed in a future version.\n",
      "Instructions for updating:\n",
      "Please write your own downloading logic.\n",
      "WARNING:tensorflow:From /home/themadscientist/anaconda3/lib/python3.7/site-packages/tensorflow/contrib/learn/python/learn/datasets/mnist.py:262: extract_images (from tensorflow.contrib.learn.python.learn.datasets.mnist) is deprecated and will be removed in a future version.\n",
      "Instructions for updating:\n",
      "Please use tf.data to implement this functionality.\n",
      "Extracting MNIST_data/train-images-idx3-ubyte.gz\n",
      "WARNING:tensorflow:From /home/themadscientist/anaconda3/lib/python3.7/site-packages/tensorflow/contrib/learn/python/learn/datasets/mnist.py:267: extract_labels (from tensorflow.contrib.learn.python.learn.datasets.mnist) is deprecated and will be removed in a future version.\n",
      "Instructions for updating:\n",
      "Please use tf.data to implement this functionality.\n",
      "Extracting MNIST_data/train-labels-idx1-ubyte.gz\n",
      "WARNING:tensorflow:From /home/themadscientist/anaconda3/lib/python3.7/site-packages/tensorflow/contrib/learn/python/learn/datasets/mnist.py:110: dense_to_one_hot (from tensorflow.contrib.learn.python.learn.datasets.mnist) is deprecated and will be removed in a future version.\n",
      "Instructions for updating:\n",
      "Please use tf.one_hot on tensors.\n",
      "Extracting MNIST_data/t10k-images-idx3-ubyte.gz\n",
      "Extracting MNIST_data/t10k-labels-idx1-ubyte.gz\n",
      "WARNING:tensorflow:From /home/themadscientist/anaconda3/lib/python3.7/site-packages/tensorflow/contrib/learn/python/learn/datasets/mnist.py:290: DataSet.__init__ (from tensorflow.contrib.learn.python.learn.datasets.mnist) is deprecated and will be removed in a future version.\n",
      "Instructions for updating:\n",
      "Please use alternatives such as official/mnist/dataset.py from tensorflow/models.\n"
     ]
    }
   ],
   "source": [
    "from tensorflow.examples.tutorials.mnist import input_data\n",
    "mnist = input_data.read_data_sets(\"MNIST_data/\", one_hot=True)"
   ]
  },
  {
   "cell_type": "markdown",
   "metadata": {},
   "source": [
    "## Helper functionss"
   ]
  },
  {
   "cell_type": "markdown",
   "metadata": {},
   "source": [
    "### Initializing the weights"
   ]
  },
  {
   "cell_type": "code",
   "execution_count": 4,
   "metadata": {},
   "outputs": [],
   "source": [
    "def init_weights(shape):\n",
    "    # truncated_normal will drop anything beyond Mu+/-2Sigma\n",
    "    init_random_dist = tf.truncated_normal(shape, stddev=0.1)\n",
    "    return tf.Variable(init_random_dist)"
   ]
  },
  {
   "cell_type": "markdown",
   "metadata": {},
   "source": [
    "### Initializing the Bias"
   ]
  },
  {
   "cell_type": "code",
   "execution_count": 5,
   "metadata": {},
   "outputs": [],
   "source": [
    "def init_bias(shape):\n",
    "    # Constant value of 0.1\n",
    "    init_bias_vals = tf.constant(0.1, shape=shape)\n",
    "    return tf.Variable(init_bias_vals)"
   ]
  },
  {
   "cell_type": "markdown",
   "metadata": {},
   "source": [
    "### 2D Convolution"
   ]
  },
  {
   "cell_type": "markdown",
   "metadata": {},
   "source": [
    "Convenient function that creates a 2d convolution\n",
    "\n",
    "There is a tf function that creates the convolution with inputs as an input tensor, an input kernel/filter and a stride and padding\n",
    "\n",
    "I'm creating a wrapper around it"
   ]
  },
  {
   "cell_type": "code",
   "execution_count": 6,
   "metadata": {},
   "outputs": [],
   "source": [
    "# x is the input tensor of form [batchOfImages, Height, Width, Channels(1 channel for \n",
    "##grayscale)]\n",
    "# W is the weights [filterHeight, filterWeight, channelsIN, channelsOUT] \n",
    "def conv2D(x, W):\n",
    "    # conv2d returns a tensor of the same size as the input X\n",
    "    return tf.nn.conv2d(x, W, strides=[1,1,1,1], padding='SAME')"
   ]
  },
  {
   "cell_type": "markdown",
   "metadata": {},
   "source": [
    "### Pooling "
   ]
  },
  {
   "cell_type": "code",
   "execution_count": 7,
   "metadata": {},
   "outputs": [],
   "source": [
    "# x is of form [batch, height, width, channel(depth)]\n",
    "def max_pool_2by2(x):\n",
    "    # ksize and strides are set for a 2x2 window of batch=1 and depth=1\n",
    "    # hence [1,2,2,1]\n",
    "    return tf.nn.max_pool(x, ksize=[1,2,2,1], strides=[1,2,2,1], padding='SAME')"
   ]
  },
  {
   "cell_type": "markdown",
   "metadata": {},
   "source": [
    "## Convolutional Layer"
   ]
  },
  {
   "cell_type": "code",
   "execution_count": 8,
   "metadata": {},
   "outputs": [],
   "source": [
    "def convolutional_layer(input_x, shape):\n",
    "    W = init_weights(shape) # returns tf.Variable\n",
    "    b = init_bias([shape[3]]) # returns tf.Variable\n",
    "    return tf.nn.relu(conv2D(input_x, W)+b)"
   ]
  },
  {
   "cell_type": "markdown",
   "metadata": {},
   "source": [
    "## Dense Layer"
   ]
  },
  {
   "cell_type": "code",
   "execution_count": 9,
   "metadata": {},
   "outputs": [],
   "source": [
    "# input_layer also follows the convention [bat, H, W, channel]\n",
    "# Densely connected\n",
    "def normal_full_layer(input_layer, size):\n",
    "    input_size = int(input_layer.get_shape()[1])\n",
    "    W = init_weights([input_size, size])\n",
    "    b = init_bias([size])\n",
    "    return tf.matmul(input_layer, W)+b"
   ]
  },
  {
   "cell_type": "markdown",
   "metadata": {},
   "source": [
    "## Placeholders"
   ]
  },
  {
   "cell_type": "code",
   "execution_count": 10,
   "metadata": {},
   "outputs": [],
   "source": [
    "# I will use these for the feed dictionaries as usual\n",
    "x = tf.placeholder(tf.float32, shape=[None,784]) # 28x28 pixels = 784\n",
    "y_true = tf.placeholder(tf.float32, shape=[None,10]) # 0 to 9, one hot encoded labels"
   ]
  },
  {
   "cell_type": "markdown",
   "metadata": {},
   "source": [
    "## Layers"
   ]
  },
  {
   "cell_type": "code",
   "execution_count": 20,
   "metadata": {},
   "outputs": [
    {
     "data": {
      "text/plain": [
       "'\\n# INPUT LAYER\\n# x_image is the inputlayer, with some no of bat, height & width is 28, with 1 color channel\\nx_image = tf.reshape(x, [-1, 28, 28, 1])\\n\\n# LAYER 1\\n# First convLayer: computes 32 features for each 5x5 patch\\nconvo_1 = convolutional_layer(x_image,\\n                             shape=[5,5,1,32]) # [patchH, patchW, channel, featuresCompting]\\n                                                # featuresComputing is no of o/p channels\\n# Passing the results of the first convLayer to maxPooling layer\\nconvo1_pooling = max_pool_2by2(convo_1)\\n\\n# Second ConvLayer\\n# Now the input to 2nd convLayer has 32 features, we need say 64 features as output\\nconvo_2 = convolutional_layer(convo1_pooling, shape=[5,5,32,64])\\nconvo_2_pooling = max_pool_2by2(convo_2)\\nconvo_2_flat = tf.reshape(convo_2_pooling, [-1, 7*7*64])\\n\\n# binding up the full First Layer\\nfull_layer_one = tf.nn.relu(normal_full_layer(convo_2_flat, 1024))\\n'"
      ]
     },
     "execution_count": 20,
     "metadata": {},
     "output_type": "execute_result"
    }
   ],
   "source": [
    "# INPUT LAYER\n",
    "# x_image is the inputlayer, with some no of bat, height & width is 28, with 1 color channel\n",
    "x_image = tf.reshape(x, [-1, 28, 28, 1])\n",
    "\n",
    "# LAYER 1\n",
    "# First convLayer: computes 32 features for each 5x5 patch\n",
    "convo_1 = convolutional_layer(x_image,\n",
    "                             shape=[5,5,1,16]) # [patchH, patchW, channel, featuresCompting]\n",
    "                                                # featuresComputing is no of o/p channels\n",
    "# Passing the results of the first convLayer to maxPooling layer\n",
    "convo1_pooling = max_pool_2by2(convo_1)\n",
    "\n",
    "# Second ConvLayer\n",
    "# Now the input to 2nd convLayer has 32 features, we need say 64 features as output\n",
    "convo_2 = convolutional_layer(convo1_pooling, shape=[5,5,16,32])\n",
    "convo_2_pooling = max_pool_2by2(convo_2)\n",
    "convo_2_flat = tf.reshape(convo_2_pooling, [-1, 7*7*32])\n",
    "\n",
    "# binding up the full First Layer\n",
    "full_layer_one = tf.nn.relu(normal_full_layer(convo_2_flat, 1024))\n",
    "\n",
    "'''\n",
    "### Commenting Out the following because my laptop is too much of a potato to run it with\n",
    "### First convlution as 5x5 1 to 32 features and second convolution as 5x5 32 to 64 features\n",
    "### The above code does a 1 to 16 and then 16 to 32 convolution\n",
    "### That does not give Exhausted Resource error\n",
    "### *Sighs*\n",
    "### I MISS MY NVIDIA GTX1060 AMP\n",
    "\n",
    "# INPUT LAYER\n",
    "# x_image is the inputlayer, with some no of bat, height & width is 28, with 1 color channel\n",
    "x_image = tf.reshape(x, [-1, 28, 28, 1])\n",
    "\n",
    "# LAYER 1\n",
    "# First convLayer: computes 32 features for each 5x5 patch\n",
    "convo_1 = convolutional_layer(x_image,\n",
    "                             shape=[5,5,1,32]) # [patchH, patchW, channel, featuresCompting]\n",
    "                                                # featuresComputing is no of o/p channels\n",
    "# Passing the results of the first convLayer to maxPooling layer\n",
    "convo1_pooling = max_pool_2by2(convo_1)\n",
    "\n",
    "# Second ConvLayer\n",
    "# Now the input to 2nd convLayer has 32 features, we need say 64 features as output\n",
    "convo_2 = convolutional_layer(convo1_pooling, shape=[5,5,32,64])\n",
    "convo_2_pooling = max_pool_2by2(convo_2)\n",
    "convo_2_flat = tf.reshape(convo_2_pooling, [-1, 7*7*64])\n",
    "\n",
    "# binding up the full First Layer\n",
    "full_layer_one = tf.nn.relu(normal_full_layer(convo_2_flat, 1024))\n",
    "'''"
   ]
  },
  {
   "cell_type": "markdown",
   "metadata": {},
   "source": [
    "## Dropout to prevent overfitting"
   ]
  },
  {
   "cell_type": "code",
   "execution_count": 21,
   "metadata": {},
   "outputs": [],
   "source": [
    "# Create holding probability, later during training feed it as 50%\n",
    "hold_prob = tf.placeholder(tf.float32)\n",
    "# The arg kepp_prob got deprecated, hence usign the one in the bottom\n",
    "#full_one_dropout = tf.nn.dropout(full_layer_one, keep_prob=hold_prob)\n",
    "full_one_dropout = tf.nn.dropout(full_layer_one, rate=1-hold_prob)"
   ]
  },
  {
   "cell_type": "markdown",
   "metadata": {},
   "source": [
    "## Making y_preds ie output layer"
   ]
  },
  {
   "cell_type": "code",
   "execution_count": 22,
   "metadata": {},
   "outputs": [],
   "source": [
    "# output layer consists of 10 neurons\n",
    "y_pred = normal_full_layer(full_one_dropout, 10) # 10 output classes"
   ]
  },
  {
   "cell_type": "markdown",
   "metadata": {},
   "source": [
    "## Defining the Loss Function"
   ]
  },
  {
   "cell_type": "code",
   "execution_count": 23,
   "metadata": {},
   "outputs": [],
   "source": [
    "cross_entropy = tf.reduce_mean(tf.nn.softmax_cross_entropy_with_logits_v2(labels=y_true,\n",
    "                                                                         logits=y_pred))"
   ]
  },
  {
   "cell_type": "markdown",
   "metadata": {},
   "source": [
    "## Defining the Optimizer and the train object"
   ]
  },
  {
   "cell_type": "code",
   "execution_count": 24,
   "metadata": {},
   "outputs": [],
   "source": [
    "# Using Adam Optimizer with the same  parameters as in the theory notes from \n",
    "# NPTEL Prof Mithesh Khapra - Deep Learning\n",
    "optimizer = tf.train.AdamOptimizer(learning_rate=0.001, beta1=0.9, beta2=0.999, \n",
    "                                   epsilon=1e-8)\n",
    "train = optimizer.minimize(cross_entropy)"
   ]
  },
  {
   "cell_type": "markdown",
   "metadata": {},
   "source": [
    "## Initializing the Variables"
   ]
  },
  {
   "cell_type": "code",
   "execution_count": 25,
   "metadata": {},
   "outputs": [],
   "source": [
    "# Creating the init object\n",
    "init = tf.global_variables_initializer()"
   ]
  },
  {
   "cell_type": "markdown",
   "metadata": {},
   "source": [
    "# Running the TensorFlow session for 1000 epochs"
   ]
  },
  {
   "cell_type": "code",
   "execution_count": 26,
   "metadata": {},
   "outputs": [
    {
     "name": "stdout",
     "output_type": "stream",
     "text": [
      "On step 0, accuracy = 0.11209999769926071\n",
      "On step 10, accuracy = 0.5709999799728394\n",
      "On step 20, accuracy = 0.7202000021934509\n",
      "On step 30, accuracy = 0.8295999765396118\n",
      "On step 40, accuracy = 0.8741000294685364\n",
      "On step 50, accuracy = 0.9039999842643738\n",
      "On step 60, accuracy = 0.9172000288963318\n",
      "On step 70, accuracy = 0.9230999946594238\n",
      "On step 80, accuracy = 0.9283000230789185\n",
      "On step 90, accuracy = 0.9341999888420105\n",
      "On step 100, accuracy = 0.9426000118255615\n",
      "On step 110, accuracy = 0.935699999332428\n",
      "On step 120, accuracy = 0.9376999735832214\n",
      "On step 130, accuracy = 0.9462000131607056\n",
      "On step 140, accuracy = 0.9498999714851379\n",
      "On step 150, accuracy = 0.9535999894142151\n",
      "On step 160, accuracy = 0.9517999887466431\n",
      "On step 170, accuracy = 0.9557999968528748\n",
      "On step 180, accuracy = 0.9562000036239624\n",
      "On step 190, accuracy = 0.9592999815940857\n",
      "On step 200, accuracy = 0.9606000185012817\n",
      "On step 210, accuracy = 0.9610999822616577\n",
      "On step 220, accuracy = 0.9625999927520752\n",
      "On step 230, accuracy = 0.9624000191688538\n",
      "On step 240, accuracy = 0.9689000248908997\n",
      "On step 250, accuracy = 0.9635999798774719\n",
      "On step 260, accuracy = 0.9638000130653381\n",
      "On step 270, accuracy = 0.9695000052452087\n",
      "On step 280, accuracy = 0.9692000150680542\n",
      "On step 290, accuracy = 0.9693999886512756\n",
      "On step 300, accuracy = 0.968999981880188\n",
      "On step 310, accuracy = 0.9714000225067139\n",
      "On step 320, accuracy = 0.9693999886512756\n",
      "On step 330, accuracy = 0.9667999744415283\n",
      "On step 340, accuracy = 0.9710000157356262\n",
      "On step 350, accuracy = 0.9703999757766724\n",
      "On step 360, accuracy = 0.9743000268936157\n",
      "On step 370, accuracy = 0.9707000255584717\n",
      "On step 380, accuracy = 0.972100019454956\n",
      "On step 390, accuracy = 0.9725000262260437\n",
      "On step 400, accuracy = 0.9717000126838684\n",
      "On step 410, accuracy = 0.9740999937057495\n",
      "On step 420, accuracy = 0.9751999974250793\n",
      "On step 430, accuracy = 0.9751999974250793\n",
      "On step 440, accuracy = 0.9758999943733215\n",
      "On step 450, accuracy = 0.9758999943733215\n",
      "On step 460, accuracy = 0.9740999937057495\n",
      "On step 470, accuracy = 0.9771999716758728\n",
      "On step 480, accuracy = 0.9747999906539917\n",
      "On step 490, accuracy = 0.9746999740600586\n",
      "On step 500, accuracy = 0.9735000133514404\n",
      "On step 510, accuracy = 0.9776999950408936\n",
      "On step 520, accuracy = 0.9729999899864197\n",
      "On step 530, accuracy = 0.9793999791145325\n",
      "On step 540, accuracy = 0.9794999957084656\n",
      "On step 550, accuracy = 0.9765999913215637\n",
      "On step 560, accuracy = 0.9803000092506409\n",
      "On step 570, accuracy = 0.9796000123023987\n",
      "On step 580, accuracy = 0.9803000092506409\n",
      "On step 590, accuracy = 0.9796000123023987\n",
      "On step 600, accuracy = 0.9787999987602234\n",
      "On step 610, accuracy = 0.9793000221252441\n",
      "On step 620, accuracy = 0.9785000085830688\n",
      "On step 630, accuracy = 0.9803000092506409\n",
      "On step 640, accuracy = 0.9785000085830688\n",
      "On step 650, accuracy = 0.9799000024795532\n",
      "On step 660, accuracy = 0.9768999814987183\n",
      "On step 670, accuracy = 0.9750000238418579\n",
      "On step 680, accuracy = 0.9726999998092651\n",
      "On step 690, accuracy = 0.9797999858856201\n",
      "On step 700, accuracy = 0.9797999858856201\n",
      "On step 710, accuracy = 0.9822999835014343\n",
      "On step 720, accuracy = 0.9803000092506409\n",
      "On step 730, accuracy = 0.9761000275611877\n",
      "On step 740, accuracy = 0.9779999852180481\n",
      "On step 750, accuracy = 0.9828000068664551\n",
      "On step 760, accuracy = 0.9810000061988831\n",
      "On step 770, accuracy = 0.9822999835014343\n",
      "On step 780, accuracy = 0.9811000227928162\n",
      "On step 790, accuracy = 0.9757999777793884\n",
      "On step 800, accuracy = 0.9801999926567078\n",
      "On step 810, accuracy = 0.9824000000953674\n",
      "On step 820, accuracy = 0.9828000068664551\n",
      "On step 830, accuracy = 0.9832000136375427\n",
      "On step 840, accuracy = 0.9825000166893005\n",
      "On step 850, accuracy = 0.9779000282287598\n",
      "On step 860, accuracy = 0.9840999841690063\n",
      "On step 870, accuracy = 0.9828000068664551\n",
      "On step 880, accuracy = 0.9836000204086304\n",
      "On step 890, accuracy = 0.9835000038146973\n",
      "On step 900, accuracy = 0.9821000099182129\n",
      "On step 910, accuracy = 0.9853000044822693\n",
      "On step 920, accuracy = 0.9818999767303467\n",
      "On step 930, accuracy = 0.9829999804496765\n",
      "On step 940, accuracy = 0.984499990940094\n",
      "On step 950, accuracy = 0.9807000160217285\n",
      "On step 960, accuracy = 0.9832000136375427\n",
      "On step 970, accuracy = 0.984499990940094\n",
      "On step 980, accuracy = 0.9832000136375427\n",
      "On step 990, accuracy = 0.9853000044822693\n"
     ]
    }
   ],
   "source": [
    "\n",
    "steps = 1000\n",
    "\n",
    "with tf.Session() as sess:\n",
    "    # Initializing the variables into the session\n",
    "    sess.run(init)\n",
    "    # training on 50 sized batches\n",
    "    for i in range(steps):\n",
    "#         print(\"training first batch\")\n",
    "        batch_x, batch_y = mnist.train.next_batch(50)\n",
    "        # train it with a dropout rate of 50%\n",
    "        sess.run(train, feed_dict={x:batch_x, y_true:batch_y, hold_prob:0.5})\n",
    "        \n",
    "        if i%10 == 0:\n",
    "#             print(\"iteration no. \", i)\n",
    "            # To calculate and print accuracy every 100 epochs\n",
    "            # axis=1 gives indexOf the maximum element in the row\n",
    "            # matches will be a 50 length boolean array\n",
    "            matches = tf.equal(tf.argmax(y_pred, axis=1), tf.argmax(y_true, axis=1))\n",
    "            # reduce matches to the mean of it to get accuracy\n",
    "            acc = tf.reduce_mean(tf.cast(matches, tf.float32))\n",
    "            # print(\"On step {0}, accuracy = {1}\".format(i, acc))\n",
    "            # the above doesnt work, my bad, need sess.run for it\n",
    "            print(\"On step {0}, accuracy = {1}\".format(i, sess.run(acc, \n",
    "                                                    feed_dict={\n",
    "                                                        x:mnist.test.images,\n",
    "                                                        y_true:mnist.test.labels,\n",
    "                                                        hold_prob:1.0\n",
    "                                                    })))\n"
   ]
  },
  {
   "cell_type": "markdown",
   "metadata": {},
   "source": [
    "Taking too much time\n",
    "\n",
    "But still worth it\n",
    "\n",
    "Take smaller output features in the convLayer ie 5x5 1:16 and in the second layer 5x5 16:32"
   ]
  }
 ],
 "metadata": {
  "kernelspec": {
   "display_name": "Python 3",
   "language": "python",
   "name": "python3"
  },
  "language_info": {
   "codemirror_mode": {
    "name": "ipython",
    "version": 3
   },
   "file_extension": ".py",
   "mimetype": "text/x-python",
   "name": "python",
   "nbconvert_exporter": "python",
   "pygments_lexer": "ipython3",
   "version": "3.7.1"
  }
 },
 "nbformat": 4,
 "nbformat_minor": 2
}
